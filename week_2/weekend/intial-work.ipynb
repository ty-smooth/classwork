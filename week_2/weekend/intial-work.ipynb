{
 "cells": [
  {
   "cell_type": "code",
   "execution_count": 1,
   "metadata": {},
   "outputs": [],
   "source": [
    "import os\n",
    "import csv\n",
    "import sys\n",
    "import glob\n",
    "import logging\n",
    "import datetime\n",
    "\n",
    "import pandas as pd\n",
    "import numpy as np\n",
    "import phonenumbers"
   ]
  },
  {
   "cell_type": "code",
   "execution_count": 2,
   "metadata": {},
   "outputs": [
    {
     "name": "stdout",
     "output_type": "stream",
     "text": [
      "['NYL_FieldAgent_20210129.csv', 'NYL_FieldAgent_20210212.csv', 'NYL_FieldAgent_20210205.csv', 'NYL_FieldAgent_20210219.csv']\n"
     ]
    }
   ],
   "source": [
    "files = [file for file in glob.glob('*.csv')]\n",
    "print(files)"
   ]
  },
  {
   "cell_type": "code",
   "execution_count": 3,
   "metadata": {},
   "outputs": [
    {
     "data": {
      "text/plain": [
       "'NYL_FieldAgent_20210129.csv'"
      ]
     },
     "execution_count": 3,
     "metadata": {},
     "output_type": "execute_result"
    }
   ],
   "source": [
    "first_file = files[0]\n",
    "first_file"
   ]
  },
  {
   "cell_type": "code",
   "execution_count": 4,
   "metadata": {},
   "outputs": [],
   "source": [
    "stem = os.path.splitext(first_file)[0]"
   ]
  },
  {
   "cell_type": "code",
   "execution_count": 5,
   "metadata": {},
   "outputs": [
    {
     "data": {
      "text/plain": [
       "'20210129'"
      ]
     },
     "execution_count": 5,
     "metadata": {},
     "output_type": "execute_result"
    }
   ],
   "source": [
    "date_time_str = stem.split('_')[-1]\n",
    "date_time_str"
   ]
  },
  {
   "cell_type": "code",
   "execution_count": 6,
   "metadata": {},
   "outputs": [
    {
     "name": "stdout",
     "output_type": "stream",
     "text": [
      "Date: 2021-01-29\n",
      "Date-time: 2021-01-29 00:00:00\n"
     ]
    }
   ],
   "source": [
    "## Sort by date order\n",
    "date_time_obj = datetime.datetime.strptime(date_time_str, '%Y%m%d')\n",
    "\n",
    "print('Date:', date_time_obj.date())\n",
    "print('Date-time:', date_time_obj)"
   ]
  },
  {
   "cell_type": "code",
   "execution_count": 7,
   "metadata": {},
   "outputs": [
    {
     "name": "stdout",
     "output_type": "stream",
     "text": [
      "2091\n",
      "2100\n",
      "2102\n",
      "2106\n"
     ]
    }
   ],
   "source": [
    "## Check line count\n",
    "for file in files:\n",
    "    df = pd.read_csv(file)\n",
    "    print(len(df.index))\n",
    "    "
   ]
  },
  {
   "cell_type": "code",
   "execution_count": 8,
   "metadata": {},
   "outputs": [
    {
     "data": {
      "text/plain": [
       "'NYL_FieldAgent_20210219.csv'"
      ]
     },
     "execution_count": 8,
     "metadata": {},
     "output_type": "execute_result"
    }
   ],
   "source": [
    "files[-1]"
   ]
  },
  {
   "cell_type": "code",
   "execution_count": 9,
   "metadata": {},
   "outputs": [
    {
     "data": {
      "text/plain": [
       "'NYL_FieldAgent_20210205.csv'"
      ]
     },
     "execution_count": 9,
     "metadata": {},
     "output_type": "execute_result"
    }
   ],
   "source": [
    "files[-2]"
   ]
  },
  {
   "cell_type": "code",
   "execution_count": 10,
   "metadata": {},
   "outputs": [
    {
     "data": {
      "text/html": [
       "<div>\n",
       "<style scoped>\n",
       "    .dataframe tbody tr th:only-of-type {\n",
       "        vertical-align: middle;\n",
       "    }\n",
       "\n",
       "    .dataframe tbody tr th {\n",
       "        vertical-align: top;\n",
       "    }\n",
       "\n",
       "    .dataframe thead th {\n",
       "        text-align: right;\n",
       "    }\n",
       "</style>\n",
       "<table border=\"1\" class=\"dataframe\">\n",
       "  <thead>\n",
       "    <tr style=\"text-align: right;\">\n",
       "      <th></th>\n",
       "      <th>Partner</th>\n",
       "      <th>Agent Id</th>\n",
       "      <th>Update Date</th>\n",
       "      <th>Agency Name</th>\n",
       "      <th>Agency Phone Number</th>\n",
       "      <th>Agency Street Address</th>\n",
       "      <th>Agency Street Address 2</th>\n",
       "      <th>Agency City</th>\n",
       "      <th>Agency State</th>\n",
       "      <th>Agency Postal Code</th>\n",
       "      <th>...</th>\n",
       "      <th>Agent Postal Code</th>\n",
       "      <th>Agent Phone Number</th>\n",
       "      <th>Agent Email Address</th>\n",
       "      <th>Agent National Producer Number</th>\n",
       "      <th>Agent Writing Contract Start Date</th>\n",
       "      <th>Agent Writing Contract Status</th>\n",
       "      <th>Agent License State (active)</th>\n",
       "      <th>Date when an agent became A2O</th>\n",
       "      <th>Title</th>\n",
       "      <th>AARP Auth to Offer Level</th>\n",
       "    </tr>\n",
       "  </thead>\n",
       "  <tbody>\n",
       "    <tr>\n",
       "      <th>0</th>\n",
       "      <td>NYL</td>\n",
       "      <td>866</td>\n",
       "      <td>01/28/2021</td>\n",
       "      <td>NORTHERN CALIFORNIA GO</td>\n",
       "      <td>916.774.6200</td>\n",
       "      <td>2999 DOUGLAS BLVD.</td>\n",
       "      <td>SUITE 350                                     ...</td>\n",
       "      <td>ROSEVILLE</td>\n",
       "      <td>CA</td>\n",
       "      <td>956613839</td>\n",
       "      <td>...</td>\n",
       "      <td>956613839</td>\n",
       "      <td>916.774.6236</td>\n",
       "      <td>stevemorgan@ft.NewYorkLife.com</td>\n",
       "      <td>2065325</td>\n",
       "      <td>06/10/1998</td>\n",
       "      <td>Active</td>\n",
       "      <td>CA,FL,</td>\n",
       "      <td>12/02/2020</td>\n",
       "      <td>AGENT</td>\n",
       "      <td>2</td>\n",
       "    </tr>\n",
       "    <tr>\n",
       "      <th>1</th>\n",
       "      <td>NYL</td>\n",
       "      <td>1049</td>\n",
       "      <td>01/28/2021</td>\n",
       "      <td>EL PASO GO</td>\n",
       "      <td>915.534.3200</td>\n",
       "      <td>MILLS BUILDING</td>\n",
       "      <td>303 N. OREGON STREET           SUITE 1100     ...</td>\n",
       "      <td>EL PASO</td>\n",
       "      <td>TX</td>\n",
       "      <td>79901</td>\n",
       "      <td>...</td>\n",
       "      <td>799011261</td>\n",
       "      <td>915.534.3216</td>\n",
       "      <td>abenitez@ft.NewYorkLife.com</td>\n",
       "      <td>1576906</td>\n",
       "      <td>06/02/1998</td>\n",
       "      <td>Active</td>\n",
       "      <td>NM,TX,KY,VA,CA,AZ,</td>\n",
       "      <td>10/07/2020</td>\n",
       "      <td>AGENT</td>\n",
       "      <td>2</td>\n",
       "    </tr>\n",
       "    <tr>\n",
       "      <th>2</th>\n",
       "      <td>NYL</td>\n",
       "      <td>1257</td>\n",
       "      <td>01/28/2021</td>\n",
       "      <td>WYOMING GO</td>\n",
       "      <td>307.266.1485</td>\n",
       "      <td>111 WEST SECOND STREET</td>\n",
       "      <td>3RD FLOOR                                     ...</td>\n",
       "      <td>CASPER</td>\n",
       "      <td>WY</td>\n",
       "      <td>826012464</td>\n",
       "      <td>...</td>\n",
       "      <td>826012224</td>\n",
       "      <td>307.265.5173</td>\n",
       "      <td>dchristense9@ft.NewYorkLife.com</td>\n",
       "      <td>2441827</td>\n",
       "      <td>09/14/1998</td>\n",
       "      <td>Active</td>\n",
       "      <td>AZ,CO,MT,ND,OK,TX,WA,WY,NC,SD,UT,MO,PA,</td>\n",
       "      <td>12/29/2020</td>\n",
       "      <td>AGENT</td>\n",
       "      <td>2</td>\n",
       "    </tr>\n",
       "    <tr>\n",
       "      <th>3</th>\n",
       "      <td>NYL</td>\n",
       "      <td>1725</td>\n",
       "      <td>01/28/2021</td>\n",
       "      <td>BROOMFIELD Sales Office</td>\n",
       "      <td>303.403.5600</td>\n",
       "      <td>3200 CHERRY CREEK SO. DRIVE</td>\n",
       "      <td>SUITE 700                                     ...</td>\n",
       "      <td>DENVER</td>\n",
       "      <td>CO</td>\n",
       "      <td>802093245</td>\n",
       "      <td>...</td>\n",
       "      <td>800218015</td>\n",
       "      <td>303.941.8607</td>\n",
       "      <td>jkramer@ft.newyorklife.com</td>\n",
       "      <td>1928521</td>\n",
       "      <td>07/14/1998</td>\n",
       "      <td>Active</td>\n",
       "      <td>CO,NV,WA,</td>\n",
       "      <td>10/02/2020</td>\n",
       "      <td>AGENT</td>\n",
       "      <td>2</td>\n",
       "    </tr>\n",
       "    <tr>\n",
       "      <th>4</th>\n",
       "      <td>NYL</td>\n",
       "      <td>1917</td>\n",
       "      <td>01/28/2021</td>\n",
       "      <td>MISSISSIPPI GO</td>\n",
       "      <td>601.607.1600</td>\n",
       "      <td>1052 HIGHLAND COLONY PARKWAY</td>\n",
       "      <td>SUITE 101                                     ...</td>\n",
       "      <td>RIDGELAND</td>\n",
       "      <td>MS</td>\n",
       "      <td>39157</td>\n",
       "      <td>...</td>\n",
       "      <td>390479031</td>\n",
       "      <td>601.992.6400</td>\n",
       "      <td>prwhitehead@ft.NewYorkLife.com</td>\n",
       "      <td>5826210</td>\n",
       "      <td>06/04/1994</td>\n",
       "      <td>Active</td>\n",
       "      <td>AL,FL,GA,LA,MS,OK,TN,TX,VA,</td>\n",
       "      <td>12/02/2020</td>\n",
       "      <td>AGENT</td>\n",
       "      <td>2</td>\n",
       "    </tr>\n",
       "  </tbody>\n",
       "</table>\n",
       "<p>5 rows × 28 columns</p>\n",
       "</div>"
      ],
      "text/plain": [
       "  Partner  Agent Id Update Date              Agency Name Agency Phone Number  \\\n",
       "0     NYL       866  01/28/2021   NORTHERN CALIFORNIA GO        916.774.6200   \n",
       "1     NYL      1049  01/28/2021               EL PASO GO        915.534.3200   \n",
       "2     NYL      1257  01/28/2021               WYOMING GO        307.266.1485   \n",
       "3     NYL      1725  01/28/2021  BROOMFIELD Sales Office        303.403.5600   \n",
       "4     NYL      1917  01/28/2021           MISSISSIPPI GO        601.607.1600   \n",
       "\n",
       "             Agency Street Address  \\\n",
       "0  2999 DOUGLAS BLVD.                \n",
       "1  MILLS BUILDING                    \n",
       "2  111 WEST SECOND STREET            \n",
       "3  3200 CHERRY CREEK SO. DRIVE       \n",
       "4  1052 HIGHLAND COLONY PARKWAY      \n",
       "\n",
       "                             Agency Street Address 2  \\\n",
       "0  SUITE 350                                     ...   \n",
       "1  303 N. OREGON STREET           SUITE 1100     ...   \n",
       "2  3RD FLOOR                                     ...   \n",
       "3  SUITE 700                                     ...   \n",
       "4  SUITE 101                                     ...   \n",
       "\n",
       "                       Agency City Agency State  Agency Postal Code  ...  \\\n",
       "0  ROSEVILLE                                 CA           956613839  ...   \n",
       "1  EL PASO                                   TX               79901  ...   \n",
       "2  CASPER                                    WY           826012464  ...   \n",
       "3  DENVER                                    CO           802093245  ...   \n",
       "4  RIDGELAND                                 MS               39157  ...   \n",
       "\n",
       "  Agent Postal Code Agent Phone Number              Agent Email Address  \\\n",
       "0         956613839       916.774.6236   stevemorgan@ft.NewYorkLife.com   \n",
       "1         799011261       915.534.3216      abenitez@ft.NewYorkLife.com   \n",
       "2         826012224       307.265.5173  dchristense9@ft.NewYorkLife.com   \n",
       "3         800218015       303.941.8607       jkramer@ft.newyorklife.com   \n",
       "4         390479031       601.992.6400   prwhitehead@ft.NewYorkLife.com   \n",
       "\n",
       "  Agent National Producer Number Agent Writing Contract Start Date  \\\n",
       "0                        2065325                        06/10/1998   \n",
       "1                        1576906                        06/02/1998   \n",
       "2                        2441827                        09/14/1998   \n",
       "3                        1928521                        07/14/1998   \n",
       "4                        5826210                        06/04/1994   \n",
       "\n",
       "  Agent Writing Contract Status             Agent License State (active)  \\\n",
       "0                        Active                                   CA,FL,   \n",
       "1                        Active                       NM,TX,KY,VA,CA,AZ,   \n",
       "2                        Active  AZ,CO,MT,ND,OK,TX,WA,WY,NC,SD,UT,MO,PA,   \n",
       "3                        Active                                CO,NV,WA,   \n",
       "4                        Active              AL,FL,GA,LA,MS,OK,TN,TX,VA,   \n",
       "\n",
       "  Date when an agent became A2O   Title AARP Auth to Offer Level  \n",
       "0                    12/02/2020  AGENT                         2  \n",
       "1                    10/07/2020  AGENT                         2  \n",
       "2                    12/29/2020  AGENT                         2  \n",
       "3                    10/02/2020  AGENT                         2  \n",
       "4                    12/02/2020  AGENT                         2  \n",
       "\n",
       "[5 rows x 28 columns]"
      ]
     },
     "execution_count": 10,
     "metadata": {},
     "output_type": "execute_result"
    }
   ],
   "source": [
    "df = pd.read_csv(files[0])\n",
    "df.head()"
   ]
  },
  {
   "cell_type": "markdown",
   "metadata": {},
   "source": [
    "10. Create another dataframe with which groups all the agents by Agency State. Display in the data frame. (optional, pandas related visualization and histograms)\n",
    "\n",
    "    11. Create a dataframe which gives the Agent Name, Agent Writing ContractStart Date, Date when an agent became A2O."
   ]
  },
  {
   "cell_type": "code",
   "execution_count": 44,
   "metadata": {},
   "outputs": [],
   "source": [
    "def groupby_state(df, col):\n",
    "    try:\n",
    "        new_df = pd.DataFrame({'count' : df.groupby([col]).size()}).reset_index()\n",
    "        return new_df\n",
    "    except:\n",
    "        pass\n",
    "\n",
    "df_2 = groupby_state(df, \"Agency State\")"
   ]
  },
  {
   "cell_type": "code",
   "execution_count": null,
   "metadata": {},
   "outputs": [],
   "source": [
    "df_2.plot.bar(x='Agency State', y='count')"
   ]
  },
  {
   "cell_type": "code",
   "execution_count": 52,
   "metadata": {},
   "outputs": [
    {
     "name": "stdout",
     "output_type": "stream",
     "text": [
      "   Agency State  count\n",
      "32           NY    309\n",
      "4            CA    301\n",
      "40           TX    182\n",
      "7            FL    147\n",
      "36           PA     90\n",
      "29           NJ     87\n",
      "42           VA     73\n",
      "17           MA     70\n",
      "33           OH     57\n",
      "12           IL     56\n"
     ]
    }
   ],
   "source": [
    "top_ten = df_2.sort_values(by='count', axis=0, ascending=False, inplace=False)[:10]\n",
    "print(top_ten)"
   ]
  },
  {
   "cell_type": "code",
   "execution_count": 54,
   "metadata": {},
   "outputs": [
    {
     "data": {
      "image/png": "[encoded data removed]",
      "text/plain": [
       "<Figure size 432x288 with 1 Axes>"
      ]
     },
     "metadata": {
      "needs_background": "light"
     },
     "output_type": "display_data"
    }
   ],
   "source": [
    "ax = top_ten.plot.bar(x='Agency State', y='count')\n",
    "ax.figure.savefig('top_ten_states_by_agents.jpg')"
   ]
  },
  {
   "cell_type": "code",
   "execution_count": null,
   "metadata": {},
   "outputs": [],
   "source": []
  },
  {
   "cell_type": "code",
   "execution_count": 43,
   "metadata": {},
   "outputs": [
    {
     "data": {
      "text/html": [
       "<div>\n",
       "<style scoped>\n",
       "    .dataframe tbody tr th:only-of-type {\n",
       "        vertical-align: middle;\n",
       "    }\n",
       "\n",
       "    .dataframe tbody tr th {\n",
       "        vertical-align: top;\n",
       "    }\n",
       "\n",
       "    .dataframe thead th {\n",
       "        text-align: right;\n",
       "    }\n",
       "</style>\n",
       "<table border=\"1\" class=\"dataframe\">\n",
       "  <thead>\n",
       "    <tr style=\"text-align: right;\">\n",
       "      <th></th>\n",
       "      <th>Agent Last Name</th>\n",
       "      <th>Agent Middle Name</th>\n",
       "      <th>Agent First Name</th>\n",
       "      <th>Agent Writing Contract Start Date</th>\n",
       "      <th>Date when an agent became A2O</th>\n",
       "    </tr>\n",
       "  </thead>\n",
       "  <tbody>\n",
       "    <tr>\n",
       "      <th>0</th>\n",
       "      <td>MORGAN</td>\n",
       "      <td></td>\n",
       "      <td>STEVE</td>\n",
       "      <td>06/10/1998</td>\n",
       "      <td>12/02/2020</td>\n",
       "    </tr>\n",
       "    <tr>\n",
       "      <th>1</th>\n",
       "      <td>BENITEZ</td>\n",
       "      <td></td>\n",
       "      <td>ANTHONY</td>\n",
       "      <td>06/02/1998</td>\n",
       "      <td>10/07/2020</td>\n",
       "    </tr>\n",
       "    <tr>\n",
       "      <th>2</th>\n",
       "      <td>CHRISTENSEN</td>\n",
       "      <td></td>\n",
       "      <td>DAN</td>\n",
       "      <td>09/14/1998</td>\n",
       "      <td>12/29/2020</td>\n",
       "    </tr>\n",
       "    <tr>\n",
       "      <th>3</th>\n",
       "      <td>KRAMER</td>\n",
       "      <td></td>\n",
       "      <td>JAMES</td>\n",
       "      <td>07/14/1998</td>\n",
       "      <td>10/02/2020</td>\n",
       "    </tr>\n",
       "    <tr>\n",
       "      <th>4</th>\n",
       "      <td>WHITEHEAD</td>\n",
       "      <td>R</td>\n",
       "      <td>PHILLIP</td>\n",
       "      <td>06/04/1994</td>\n",
       "      <td>12/02/2020</td>\n",
       "    </tr>\n",
       "  </tbody>\n",
       "</table>\n",
       "</div>"
      ],
      "text/plain": [
       "                   Agent Last Name                Agent Middle Name  \\\n",
       "0  MORGAN                                                             \n",
       "1  BENITEZ                                                            \n",
       "2  CHRISTENSEN                                                        \n",
       "3  KRAMER                                                             \n",
       "4  WHITEHEAD                        R                                 \n",
       "\n",
       "                  Agent First Name Agent Writing Contract Start Date  \\\n",
       "0  STEVE                                                  06/10/1998   \n",
       "1  ANTHONY                                                06/02/1998   \n",
       "2  DAN                                                    09/14/1998   \n",
       "3  JAMES                                                  07/14/1998   \n",
       "4  PHILLIP                                                06/04/1994   \n",
       "\n",
       "  Date when an agent became A2O  \n",
       "0                    12/02/2020  \n",
       "1                    10/07/2020  \n",
       "2                    12/29/2020  \n",
       "3                    10/02/2020  \n",
       "4                    12/02/2020  "
      ]
     },
     "execution_count": 43,
     "metadata": {},
     "output_type": "execute_result"
    }
   ],
   "source": [
    "df_3 = df[[\"Agent Last Name\",\"Agent Middle Name\",\"Agent First Name\", \"Agent Writing Contract Start Date\", \"Date when an agent became A2O\"]]\n",
    "df_3.head()"
   ]
  },
  {
   "cell_type": "code",
   "execution_count": null,
   "metadata": {},
   "outputs": [],
   "source": []
  },
  {
   "cell_type": "code",
   "execution_count": null,
   "metadata": {},
   "outputs": [],
   "source": []
  },
  {
   "cell_type": "code",
   "execution_count": 15,
   "metadata": {},
   "outputs": [
    {
     "name": "stdout",
     "output_type": "stream",
     "text": [
      "Country Code: 1 National Number: 123\n",
      "Not a valid number\n"
     ]
    }
   ],
   "source": [
    "for index, row in df.iterrows():\n",
    "    phone_one = row['Agency Phone Number']\n",
    "    phone_two = row['Agent Phone Number']\n",
    "    \n",
    "    phone_one_obj = phonenumbers.parse('123', 'US')\n",
    "    print(phone_one_obj)\n",
    "    \n",
    "    if phonenumbers.is_valid_number(phone_one_obj):\n",
    "        pass\n",
    "    else:\n",
    "        print('Not a valid number')    \n",
    "\n",
    "    break\n",
    "## Check phone numbers\n",
    "# x = phonenumbers.parse(number, \"US\")"
   ]
  },
  {
   "cell_type": "code",
   "execution_count": 32,
   "metadata": {},
   "outputs": [
    {
     "name": "stdout",
     "output_type": "stream",
     "text": [
      "<ValidatedEmail jkramer@ft.newyorklife.com>\n"
     ]
    }
   ],
   "source": [
    "from email_validator import validate_email, EmailNotValidError\n",
    "\n",
    "email = 'jkramer@ft.newyorklife.com'\n",
    "\n",
    "try:\n",
    "  # Validate.\n",
    "  valid = validate_email(email)\n",
    "\n",
    "  # Update with the normalized form.\n",
    "#   email = valid.email\n",
    "  print(valid)\n",
    "except EmailNotValidError as e:\n",
    "  # email is not valid, exception message is human-readable\n",
    "  print(str(e))"
   ]
  },
  {
   "cell_type": "code",
   "execution_count": 31,
   "metadata": {},
   "outputs": [
    {
     "name": "stdout",
     "output_type": "stream",
     "text": [
      "not valid email\n"
     ]
    }
   ],
   "source": [
    "import re\n",
    "\n",
    "email = 'me@tyshaikh.com'\n",
    "email = 'jkramer@ft.newyorklife.com'\n",
    "is_valid_email = bool(re.search(r\"^[\\w\\.\\+\\-]+\\@[\\w]+\\.[a-z]{2,3}$\", email))\n",
    "\n",
    "if not is_valid_email:\n",
    "    print('not valid email')"
   ]
  },
  {
   "cell_type": "code",
   "execution_count": 11,
   "metadata": {},
   "outputs": [
    {
     "name": "stdout",
     "output_type": "stream",
     "text": [
      "['Partner', 'Agent Id', 'Update Date', 'Agency Name', 'Agency Phone Number', 'Agency Street Address', 'Agency Street Address 2', 'Agency City', 'Agency State', 'Agency Postal Code', 'Agency Principal Name', 'Agent Last Name', 'Agent Middle Name', 'Agent First Name', 'Agent Street Address', 'Agent Street Address 2', 'Agent City', 'Agent State', 'Agent Postal Code', 'Agent Phone Number', 'Agent Email Address', 'Agent National Producer Number', 'Agent Writing Contract Start Date', 'Agent Writing Contract Status', 'Agent License State (active)', 'Date when an agent became A2O', 'Title', 'AARP Auth to Offer Level']\n",
      "['Partner', 'Agent Id', 'Update Date', 'Agency Name', 'Agency Phone Number', 'Agency Street Address', 'Agency Street Address 2', 'Agency City', 'Agency State', 'Agency Postal Code', 'Agency Principal Name', 'Agent Last Name', 'Agent Middle Name', 'Agent First Name', 'Agent Street Address', 'Agent Street Address 2', 'Agent City', 'Agent State', 'Agent Postal Code', 'Agent Phone Number', 'Agent Email Address', 'Agent National Producer Number', 'Agent Writing Contract Start Date', 'Agent Writing Contract Status', 'Agent License State (active)', 'Date when an agent became A2O', 'Title', 'AARP Auth to Offer Level']\n",
      "['Partner', 'Agent Id', 'Update Date', 'Agency Name', 'Agency Phone Number', 'Agency Street Address', 'Agency Street Address 2', 'Agency City', 'Agency State', 'Agency Postal Code', 'Agency Principal Name', 'Agent Last Name', 'Agent Middle Name', 'Agent First Name', 'Agent Street Address', 'Agent Street Address 2', 'Agent City', 'Agent State', 'Agent Postal Code', 'Agent Phone Number', 'Agent Email Address', 'Agent National Producer Number', 'Agent Writing Contract Start Date', 'Agent Writing Contract Status', 'Agent License State (active)', 'Date when an agent became A2O', 'Title', 'AARP Auth to Offer Level']\n",
      "['Partner', 'Agent Id', 'Update Date', 'Agency Name', 'Agency Phone Number', 'Agency Street Address', 'Agency Street Address 2', 'Agency City', 'Agency State', 'Agency Postal Code', 'Agency Principal Name', 'Agent Last Name', 'Agent Middle Name', 'Agent First Name', 'Agent Street Address', 'Agent Street Address 2', 'Agent City', 'Agent State', 'Agent Postal Code', 'Agent Phone Number', 'Agent Email Address', 'Agent National Producer Number', 'Agent Writing Contract Start Date', 'Agent Writing Contract Status', 'Agent License State (active)', 'Date when an agent became A2O', 'Title', 'AARP Auth to Offer Level']\n"
     ]
    }
   ],
   "source": [
    "## Fix col names\n",
    "for file in files:\n",
    "    df = pd.read_csv(file)\n",
    "    print(list(df.columns.values))"
   ]
  },
  {
   "cell_type": "code",
   "execution_count": null,
   "metadata": {},
   "outputs": [],
   "source": [
    "## Check phone numbers\n",
    "x = phonenumbers.parse(number, \"US\")"
   ]
  }
 ],
 "metadata": {
  "kernelspec": {
   "display_name": "Python 3",
   "language": "python",
   "name": "python3"
  },
  "language_info": {
   "codemirror_mode": {
    "name": "ipython",
    "version": 3
   },
   "file_extension": ".py",
   "mimetype": "text/x-python",
   "name": "python",
   "nbconvert_exporter": "python",
   "pygments_lexer": "ipython3",
   "version": "3.8.5"
  }
 },
 "nbformat": 4,
 "nbformat_minor": 4
}
