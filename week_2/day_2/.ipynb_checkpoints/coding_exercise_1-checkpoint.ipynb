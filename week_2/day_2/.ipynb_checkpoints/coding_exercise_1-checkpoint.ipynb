{
 "cells": [
  {
   "cell_type": "code",
   "execution_count": 1,
   "metadata": {},
   "outputs": [],
   "source": [
    "import pandas as pd"
   ]
  },
  {
   "cell_type": "code",
   "execution_count": 3,
   "metadata": {},
   "outputs": [
    {
     "name": "stdout",
     "output_type": "stream",
     "text": [
      "   Id       EmployeeName                                        JobTitle  \\\n",
      "0   1     NATHANIEL FORD  GENERAL MANAGER-METROPOLITAN TRANSIT AUTHORITY   \n",
      "1   2       GARY JIMENEZ                 CAPTAIN III (POLICE DEPARTMENT)   \n",
      "2   3     ALBERT PARDINI                 CAPTAIN III (POLICE DEPARTMENT)   \n",
      "3   4  CHRISTOPHER CHONG            WIRE ROPE CABLE MAINTENANCE MECHANIC   \n",
      "4   5    PATRICK GARDNER    DEPUTY CHIEF OF DEPARTMENT,(FIRE DEPARTMENT)   \n",
      "\n",
      "     BasePay OvertimePay   OtherPay Benefits   TotalPay  TotalPayBenefits  \\\n",
      "0  167411.18         0.0  400184.25      NaN  567595.43         567595.43   \n",
      "1  155966.02   245131.88  137811.38      NaN  538909.28         538909.28   \n",
      "2  212739.13   106088.18    16452.6      NaN  335279.91         335279.91   \n",
      "3    77916.0    56120.71   198306.9      NaN  332343.61         332343.61   \n",
      "4   134401.6      9737.0  182234.59      NaN  326373.19         326373.19   \n",
      "\n",
      "   Year  Notes         Agency Status  \n",
      "0  2011    NaN  San Francisco    NaN  \n",
      "1  2011    NaN  San Francisco    NaN  \n",
      "2  2011    NaN  San Francisco    NaN  \n",
      "3  2011    NaN  San Francisco    NaN  \n",
      "4  2011    NaN  San Francisco    NaN  \n"
     ]
    }
   ],
   "source": [
    "# Problem 1\n",
    "df = pd.read_csv('Salaries.csv', low_memory=False)\n",
    "print(df.head())"
   ]
  },
  {
   "cell_type": "code",
   "execution_count": 4,
   "metadata": {},
   "outputs": [
    {
     "name": "stdout",
     "output_type": "stream",
     "text": [
      "<class 'pandas.core.frame.DataFrame'>\n",
      "RangeIndex: 148654 entries, 0 to 148653\n",
      "Data columns (total 13 columns):\n",
      " #   Column            Non-Null Count   Dtype  \n",
      "---  ------            --------------   -----  \n",
      " 0   Id                148654 non-null  int64  \n",
      " 1   EmployeeName      148654 non-null  object \n",
      " 2   JobTitle          148654 non-null  object \n",
      " 3   BasePay           148049 non-null  object \n",
      " 4   OvertimePay       148654 non-null  object \n",
      " 5   OtherPay          148654 non-null  object \n",
      " 6   Benefits          112495 non-null  object \n",
      " 7   TotalPay          148654 non-null  float64\n",
      " 8   TotalPayBenefits  148654 non-null  float64\n",
      " 9   Year              148654 non-null  int64  \n",
      " 10  Notes             0 non-null       float64\n",
      " 11  Agency            148654 non-null  object \n",
      " 12  Status            38119 non-null   object \n",
      "dtypes: float64(3), int64(2), object(8)\n",
      "memory usage: 14.7+ MB\n",
      "None\n"
     ]
    }
   ],
   "source": [
    "# Problem 2\n",
    "print(df.info())"
   ]
  },
  {
   "cell_type": "code",
   "execution_count": 5,
   "metadata": {},
   "outputs": [],
   "source": [
    "# There are 148,654 entries"
   ]
  },
  {
   "cell_type": "code",
   "execution_count": 15,
   "metadata": {},
   "outputs": [
    {
     "name": "stdout",
     "output_type": "stream",
     "text": [
      "145663.99820000018\n"
     ]
    }
   ],
   "source": [
    "# Problem 3\n",
    "base_pay = pd.to_numeric(df['BasePay'], errors='coerce')\n",
    "print(base_pay[0:1000].mean())"
   ]
  },
  {
   "cell_type": "code",
   "execution_count": 17,
   "metadata": {},
   "outputs": [
    {
     "name": "stdout",
     "output_type": "stream",
     "text": [
      "567595.43\n"
     ]
    }
   ],
   "source": [
    "# Problem 4\n",
    "print(df['TotalPayBenefits'].max())"
   ]
  },
  {
   "cell_type": "code",
   "execution_count": 49,
   "metadata": {},
   "outputs": [
    {
     "data": {
      "text/plain": [
       "24    CAPTAIN, FIRE SUPPRESSION\n",
       "Name: JobTitle, dtype: object"
      ]
     },
     "execution_count": 49,
     "metadata": {},
     "output_type": "execute_result"
    }
   ],
   "source": [
    "# Problem 5\n",
    "df.loc[df['EmployeeName'] == 'JOSEPH DRISCOLL']['JobTitle']"
   ]
  },
  {
   "cell_type": "code",
   "execution_count": 22,
   "metadata": {},
   "outputs": [
    {
     "data": {
      "text/plain": [
       "24    270324.91\n",
       "Name: TotalPayBenefits, dtype: float64"
      ]
     },
     "execution_count": 22,
     "metadata": {},
     "output_type": "execute_result"
    }
   ],
   "source": [
    "# Problem 6\n",
    "df.loc[df['EmployeeName'] == 'JOSEPH DRISCOLL']['TotalPayBenefits']"
   ]
  },
  {
   "cell_type": "code",
   "execution_count": 23,
   "metadata": {},
   "outputs": [
    {
     "data": {
      "text/plain": [
       "0    NATHANIEL FORD\n",
       "Name: EmployeeName, dtype: object"
      ]
     },
     "execution_count": 23,
     "metadata": {},
     "output_type": "execute_result"
    }
   ],
   "source": [
    "# Problem 7\n",
    "df.loc[df['TotalPayBenefits'] == df['TotalPayBenefits'].max()]['EmployeeName']"
   ]
  },
  {
   "cell_type": "code",
   "execution_count": 51,
   "metadata": {},
   "outputs": [
    {
     "name": "stdout",
     "output_type": "stream",
     "text": [
      "148653    Joe Lopez\n",
      "Name: EmployeeName, dtype: object\n",
      "-618.13\n"
     ]
    }
   ],
   "source": [
    "# Problem 8\n",
    "print(df.loc[df['TotalPayBenefits'] == df['TotalPayBenefits'].min()]['EmployeeName'])\n",
    "print(df['TotalPayBenefits'].min())\n",
    "# This is a negative number, must be a data collection error"
   ]
  },
  {
   "cell_type": "code",
   "execution_count": 31,
   "metadata": {},
   "outputs": [
    {
     "data": {
      "text/html": [
       "<div>\n",
       "<style scoped>\n",
       "    .dataframe tbody tr th:only-of-type {\n",
       "        vertical-align: middle;\n",
       "    }\n",
       "\n",
       "    .dataframe tbody tr th {\n",
       "        vertical-align: top;\n",
       "    }\n",
       "\n",
       "    .dataframe thead th {\n",
       "        text-align: right;\n",
       "    }\n",
       "</style>\n",
       "<table border=\"1\" class=\"dataframe\">\n",
       "  <thead>\n",
       "    <tr style=\"text-align: right;\">\n",
       "      <th></th>\n",
       "      <th>Year</th>\n",
       "      <th>TotalPay</th>\n",
       "    </tr>\n",
       "  </thead>\n",
       "  <tbody>\n",
       "    <tr>\n",
       "      <th>0</th>\n",
       "      <td>2011</td>\n",
       "      <td>71744.103871</td>\n",
       "    </tr>\n",
       "    <tr>\n",
       "      <th>1</th>\n",
       "      <td>2012</td>\n",
       "      <td>74113.262265</td>\n",
       "    </tr>\n",
       "    <tr>\n",
       "      <th>2</th>\n",
       "      <td>2013</td>\n",
       "      <td>77611.443142</td>\n",
       "    </tr>\n",
       "    <tr>\n",
       "      <th>3</th>\n",
       "      <td>2014</td>\n",
       "      <td>75463.918140</td>\n",
       "    </tr>\n",
       "  </tbody>\n",
       "</table>\n",
       "</div>"
      ],
      "text/plain": [
       "   Year      TotalPay\n",
       "0  2011  71744.103871\n",
       "1  2012  74113.262265\n",
       "2  2013  77611.443142\n",
       "3  2014  75463.918140"
      ]
     },
     "execution_count": 31,
     "metadata": {},
     "output_type": "execute_result"
    }
   ],
   "source": [
    "# Problem 9\n",
    "df.groupby(['Year'])['TotalPay'].mean().reset_index()"
   ]
  },
  {
   "cell_type": "code",
   "execution_count": 34,
   "metadata": {},
   "outputs": [
    {
     "data": {
      "text/plain": [
       "2159"
      ]
     },
     "execution_count": 34,
     "metadata": {},
     "output_type": "execute_result"
    }
   ],
   "source": [
    "# Problem 10\n",
    "len(df['JobTitle'].unique())"
   ]
  },
  {
   "cell_type": "code",
   "execution_count": 36,
   "metadata": {},
   "outputs": [
    {
     "data": {
      "text/plain": [
       "Transit Operator                7036\n",
       "Special Nurse                   4389\n",
       "Registered Nurse                3736\n",
       "Public Svc Aide-Public Works    2518\n",
       "Police Officer 3                2421\n",
       "Custodian                       2418\n",
       "TRANSIT OPERATOR                2388\n",
       "Name: JobTitle, dtype: int64"
      ]
     },
     "execution_count": 36,
     "metadata": {},
     "output_type": "execute_result"
    }
   ],
   "source": [
    "# Problem 11\n",
    "df['JobTitle'].value_counts()[:7]"
   ]
  },
  {
   "cell_type": "code",
   "execution_count": 43,
   "metadata": {},
   "outputs": [],
   "source": [
    "# Problem 12\n",
    "counts_data = df.loc[df['Year'] == 2013]['JobTitle'].value_counts()"
   ]
  },
  {
   "cell_type": "code",
   "execution_count": 44,
   "metadata": {},
   "outputs": [
    {
     "data": {
      "text/plain": [
       "Wharfinger 1                      1\n",
       "Media/Security Syst Supv          1\n",
       "Training Coordinator              1\n",
       "Assistant Inspector               1\n",
       "Director, Probate                 1\n",
       "                                 ..\n",
       "Mayor                             1\n",
       "PrDAInvest,SpecUnit (SFERS)       1\n",
       "Senior Transit Traffic Checker    1\n",
       "Crime Lab Mgr                     1\n",
       "Chief Electrical Inspector        1\n",
       "Name: JobTitle, Length: 202, dtype: int64"
      ]
     },
     "execution_count": 44,
     "metadata": {},
     "output_type": "execute_result"
    }
   ],
   "source": [
    "counts_data[counts_data == 1]"
   ]
  },
  {
   "cell_type": "code",
   "execution_count": 53,
   "metadata": {},
   "outputs": [
    {
     "data": {
      "text/html": [
       "<div>\n",
       "<style scoped>\n",
       "    .dataframe tbody tr th:only-of-type {\n",
       "        vertical-align: middle;\n",
       "    }\n",
       "\n",
       "    .dataframe tbody tr th {\n",
       "        vertical-align: top;\n",
       "    }\n",
       "\n",
       "    .dataframe thead th {\n",
       "        text-align: right;\n",
       "    }\n",
       "</style>\n",
       "<table border=\"1\" class=\"dataframe\">\n",
       "  <thead>\n",
       "    <tr style=\"text-align: right;\">\n",
       "      <th></th>\n",
       "      <th>Id</th>\n",
       "      <th>EmployeeName</th>\n",
       "      <th>JobTitle</th>\n",
       "      <th>BasePay</th>\n",
       "      <th>OvertimePay</th>\n",
       "      <th>OtherPay</th>\n",
       "      <th>Benefits</th>\n",
       "      <th>TotalPay</th>\n",
       "      <th>TotalPayBenefits</th>\n",
       "      <th>Year</th>\n",
       "      <th>Notes</th>\n",
       "      <th>Agency</th>\n",
       "      <th>Status</th>\n",
       "      <th>TitleLength</th>\n",
       "    </tr>\n",
       "  </thead>\n",
       "  <tbody>\n",
       "    <tr>\n",
       "      <th>9</th>\n",
       "      <td>10</td>\n",
       "      <td>JOANNE HAYES-WHITE</td>\n",
       "      <td>CHIEF OF DEPARTMENT, (FIRE DEPARTMENT)</td>\n",
       "      <td>285262.0</td>\n",
       "      <td>0.0</td>\n",
       "      <td>17115.73</td>\n",
       "      <td>NaN</td>\n",
       "      <td>302377.73</td>\n",
       "      <td>302377.73</td>\n",
       "      <td>2011</td>\n",
       "      <td>NaN</td>\n",
       "      <td>San Francisco</td>\n",
       "      <td>NaN</td>\n",
       "      <td>38</td>\n",
       "    </tr>\n",
       "    <tr>\n",
       "      <th>25</th>\n",
       "      <td>26</td>\n",
       "      <td>GREGORY SUHR</td>\n",
       "      <td>CHIEF OF POLICE</td>\n",
       "      <td>256470.41</td>\n",
       "      <td>0.0</td>\n",
       "      <td>11522.18</td>\n",
       "      <td>NaN</td>\n",
       "      <td>267992.59</td>\n",
       "      <td>267992.59</td>\n",
       "      <td>2011</td>\n",
       "      <td>NaN</td>\n",
       "      <td>San Francisco</td>\n",
       "      <td>NaN</td>\n",
       "      <td>15</td>\n",
       "    </tr>\n",
       "    <tr>\n",
       "      <th>196</th>\n",
       "      <td>197</td>\n",
       "      <td>BURK DELVENTHAL</td>\n",
       "      <td>CHIEF ATTORNEY I (CIVIL &amp; CRIMINAL)</td>\n",
       "      <td>206752.0</td>\n",
       "      <td>0.0</td>\n",
       "      <td>0.0</td>\n",
       "      <td>NaN</td>\n",
       "      <td>206752.00</td>\n",
       "      <td>206752.00</td>\n",
       "      <td>2011</td>\n",
       "      <td>NaN</td>\n",
       "      <td>San Francisco</td>\n",
       "      <td>NaN</td>\n",
       "      <td>35</td>\n",
       "    </tr>\n",
       "    <tr>\n",
       "      <th>298</th>\n",
       "      <td>299</td>\n",
       "      <td>JAMES HARRIGAN</td>\n",
       "      <td>CHIEF ATTORNEY I (CIVIL &amp; CRIMINAL)</td>\n",
       "      <td>196886.55</td>\n",
       "      <td>0.0</td>\n",
       "      <td>0.0</td>\n",
       "      <td>NaN</td>\n",
       "      <td>196886.55</td>\n",
       "      <td>196886.55</td>\n",
       "      <td>2011</td>\n",
       "      <td>NaN</td>\n",
       "      <td>San Francisco</td>\n",
       "      <td>NaN</td>\n",
       "      <td>35</td>\n",
       "    </tr>\n",
       "    <tr>\n",
       "      <th>299</th>\n",
       "      <td>300</td>\n",
       "      <td>JOANNE HOEPER</td>\n",
       "      <td>CHIEF ATTORNEY I (CIVIL &amp; CRIMINAL)</td>\n",
       "      <td>196886.55</td>\n",
       "      <td>0.0</td>\n",
       "      <td>0.0</td>\n",
       "      <td>NaN</td>\n",
       "      <td>196886.55</td>\n",
       "      <td>196886.55</td>\n",
       "      <td>2011</td>\n",
       "      <td>NaN</td>\n",
       "      <td>San Francisco</td>\n",
       "      <td>NaN</td>\n",
       "      <td>35</td>\n",
       "    </tr>\n",
       "    <tr>\n",
       "      <th>...</th>\n",
       "      <td>...</td>\n",
       "      <td>...</td>\n",
       "      <td>...</td>\n",
       "      <td>...</td>\n",
       "      <td>...</td>\n",
       "      <td>...</td>\n",
       "      <td>...</td>\n",
       "      <td>...</td>\n",
       "      <td>...</td>\n",
       "      <td>...</td>\n",
       "      <td>...</td>\n",
       "      <td>...</td>\n",
       "      <td>...</td>\n",
       "      <td>...</td>\n",
       "    </tr>\n",
       "    <tr>\n",
       "      <th>30155</th>\n",
       "      <td>30156</td>\n",
       "      <td>JOHN WALL</td>\n",
       "      <td>CHIEF STATIONARY ENGINEER, SEWAGE PLANT</td>\n",
       "      <td>5451.6</td>\n",
       "      <td>0.0</td>\n",
       "      <td>10173.82</td>\n",
       "      <td>NaN</td>\n",
       "      <td>15625.42</td>\n",
       "      <td>15625.42</td>\n",
       "      <td>2011</td>\n",
       "      <td>NaN</td>\n",
       "      <td>San Francisco</td>\n",
       "      <td>NaN</td>\n",
       "      <td>39</td>\n",
       "    </tr>\n",
       "    <tr>\n",
       "      <th>31735</th>\n",
       "      <td>31736</td>\n",
       "      <td>BRENT POWELL</td>\n",
       "      <td>CHIEF PREPARATOR</td>\n",
       "      <td>7962.0</td>\n",
       "      <td>0.0</td>\n",
       "      <td>1699.22</td>\n",
       "      <td>NaN</td>\n",
       "      <td>9661.22</td>\n",
       "      <td>9661.22</td>\n",
       "      <td>2011</td>\n",
       "      <td>NaN</td>\n",
       "      <td>San Francisco</td>\n",
       "      <td>NaN</td>\n",
       "      <td>16</td>\n",
       "    </tr>\n",
       "    <tr>\n",
       "      <th>33386</th>\n",
       "      <td>33387</td>\n",
       "      <td>NORMAN DALEY</td>\n",
       "      <td>CHIEF SURVEYOR</td>\n",
       "      <td>4787.2</td>\n",
       "      <td>0.0</td>\n",
       "      <td>0.0</td>\n",
       "      <td>NaN</td>\n",
       "      <td>4787.20</td>\n",
       "      <td>4787.20</td>\n",
       "      <td>2011</td>\n",
       "      <td>NaN</td>\n",
       "      <td>San Francisco</td>\n",
       "      <td>NaN</td>\n",
       "      <td>14</td>\n",
       "    </tr>\n",
       "    <tr>\n",
       "      <th>34535</th>\n",
       "      <td>34536</td>\n",
       "      <td>SIMON LEE</td>\n",
       "      <td>CHIEF PAYROLL AND PERSONNEL CLERK</td>\n",
       "      <td>0.0</td>\n",
       "      <td>0.0</td>\n",
       "      <td>2453.17</td>\n",
       "      <td>NaN</td>\n",
       "      <td>2453.17</td>\n",
       "      <td>2453.17</td>\n",
       "      <td>2011</td>\n",
       "      <td>NaN</td>\n",
       "      <td>San Francisco</td>\n",
       "      <td>NaN</td>\n",
       "      <td>33</td>\n",
       "    </tr>\n",
       "    <tr>\n",
       "      <th>35207</th>\n",
       "      <td>35208</td>\n",
       "      <td>PATRICK BOYD</td>\n",
       "      <td>CHIEF ADULT PROBATION OFFICER</td>\n",
       "      <td>1213.24</td>\n",
       "      <td>0.0</td>\n",
       "      <td>0.0</td>\n",
       "      <td>NaN</td>\n",
       "      <td>1213.24</td>\n",
       "      <td>1213.24</td>\n",
       "      <td>2011</td>\n",
       "      <td>NaN</td>\n",
       "      <td>San Francisco</td>\n",
       "      <td>NaN</td>\n",
       "      <td>29</td>\n",
       "    </tr>\n",
       "  </tbody>\n",
       "</table>\n",
       "<p>101 rows × 14 columns</p>\n",
       "</div>"
      ],
      "text/plain": [
       "          Id        EmployeeName                                 JobTitle  \\\n",
       "9         10  JOANNE HAYES-WHITE   CHIEF OF DEPARTMENT, (FIRE DEPARTMENT)   \n",
       "25        26        GREGORY SUHR                          CHIEF OF POLICE   \n",
       "196      197     BURK DELVENTHAL      CHIEF ATTORNEY I (CIVIL & CRIMINAL)   \n",
       "298      299      JAMES HARRIGAN      CHIEF ATTORNEY I (CIVIL & CRIMINAL)   \n",
       "299      300       JOANNE HOEPER      CHIEF ATTORNEY I (CIVIL & CRIMINAL)   \n",
       "...      ...                 ...                                      ...   \n",
       "30155  30156           JOHN WALL  CHIEF STATIONARY ENGINEER, SEWAGE PLANT   \n",
       "31735  31736        BRENT POWELL                         CHIEF PREPARATOR   \n",
       "33386  33387        NORMAN DALEY                           CHIEF SURVEYOR   \n",
       "34535  34536           SIMON LEE        CHIEF PAYROLL AND PERSONNEL CLERK   \n",
       "35207  35208        PATRICK BOYD            CHIEF ADULT PROBATION OFFICER   \n",
       "\n",
       "         BasePay OvertimePay  OtherPay Benefits   TotalPay  TotalPayBenefits  \\\n",
       "9       285262.0         0.0  17115.73      NaN  302377.73         302377.73   \n",
       "25     256470.41         0.0  11522.18      NaN  267992.59         267992.59   \n",
       "196     206752.0         0.0       0.0      NaN  206752.00         206752.00   \n",
       "298    196886.55         0.0       0.0      NaN  196886.55         196886.55   \n",
       "299    196886.55         0.0       0.0      NaN  196886.55         196886.55   \n",
       "...          ...         ...       ...      ...        ...               ...   \n",
       "30155     5451.6         0.0  10173.82      NaN   15625.42          15625.42   \n",
       "31735     7962.0         0.0   1699.22      NaN    9661.22           9661.22   \n",
       "33386     4787.2         0.0       0.0      NaN    4787.20           4787.20   \n",
       "34535        0.0         0.0   2453.17      NaN    2453.17           2453.17   \n",
       "35207    1213.24         0.0       0.0      NaN    1213.24           1213.24   \n",
       "\n",
       "       Year  Notes         Agency Status  TitleLength  \n",
       "9      2011    NaN  San Francisco    NaN           38  \n",
       "25     2011    NaN  San Francisco    NaN           15  \n",
       "196    2011    NaN  San Francisco    NaN           35  \n",
       "298    2011    NaN  San Francisco    NaN           35  \n",
       "299    2011    NaN  San Francisco    NaN           35  \n",
       "...     ...    ...            ...    ...          ...  \n",
       "30155  2011    NaN  San Francisco    NaN           39  \n",
       "31735  2011    NaN  San Francisco    NaN           16  \n",
       "33386  2011    NaN  San Francisco    NaN           14  \n",
       "34535  2011    NaN  San Francisco    NaN           33  \n",
       "35207  2011    NaN  San Francisco    NaN           29  \n",
       "\n",
       "[101 rows x 14 columns]"
      ]
     },
     "execution_count": 53,
     "metadata": {},
     "output_type": "execute_result"
    }
   ],
   "source": [
    "# Problem 13\n",
    "df[df['JobTitle'].str.match('CHIEF')]"
   ]
  },
  {
   "cell_type": "code",
   "execution_count": 54,
   "metadata": {},
   "outputs": [
    {
     "data": {
      "text/plain": [
       "101"
      ]
     },
     "execution_count": 54,
     "metadata": {},
     "output_type": "execute_result"
    }
   ],
   "source": [
    "len(df[df['JobTitle'].str.match('CHIEF')])"
   ]
  },
  {
   "cell_type": "code",
   "execution_count": 55,
   "metadata": {},
   "outputs": [
    {
     "name": "stdout",
     "output_type": "stream",
     "text": [
      "-0.03687844593260676\n"
     ]
    }
   ],
   "source": [
    "# Problem 14\n",
    "df['TitleLength'] = df['JobTitle'].str.len()\n",
    "correlation = df['TitleLength'].corr(df['TotalPayBenefits'])\n",
    "print(correlation)"
   ]
  },
  {
   "cell_type": "code",
   "execution_count": null,
   "metadata": {},
   "outputs": [],
   "source": [
    "# No correlation here"
   ]
  }
 ],
 "metadata": {
  "kernelspec": {
   "display_name": "Python 3",
   "language": "python",
   "name": "python3"
  },
  "language_info": {
   "codemirror_mode": {
    "name": "ipython",
    "version": 3
   },
   "file_extension": ".py",
   "mimetype": "text/x-python",
   "name": "python",
   "nbconvert_exporter": "python",
   "pygments_lexer": "ipython3",
   "version": "3.8.5"
  }
 },
 "nbformat": 4,
 "nbformat_minor": 4
}
